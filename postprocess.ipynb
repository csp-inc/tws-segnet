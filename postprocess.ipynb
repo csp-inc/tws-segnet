{
 "cells": [
  {
   "cell_type": "code",
   "execution_count": 48,
   "metadata": {},
   "outputs": [],
   "source": [
    "from glob import glob\n",
    "import numpy as np\n",
    "import os\n",
    "import gdal\n",
    "from matplotlib import pyplot as plt\n",
    "from src.segtools import export_tif\n",
    "import subprocess\n",
    "import time\n",
    "import re\n",
    "%matplotlib inline"
   ]
  },
  {
   "cell_type": "code",
   "execution_count": 83,
   "metadata": {},
   "outputs": [
    {
     "name": "stdout",
     "output_type": "stream",
     "text": [
      "['/contents/predictions/processed/v1-00/HotC_polyimage_0_USDA_NAIP_DOQQ_m_3711501_ne_11_1_20150725.tif', '/contents/predictions/processed/v1-00/HotC_polyimage_1_USDA_NAIP_DOQQ_m_3711501_nw_11_1_20150725.tif', '/contents/predictions/processed/v1-00/HotC_polyimage_2_USDA_NAIP_DOQQ_m_3711501_se_11_1_20150725.tif', '/contents/predictions/processed/v1-00/HotC_polyimage_3_USDA_NAIP_DOQQ_m_3711501_sw_11_1_20150725.tif', '/contents/predictions/processed/v1-00/HotC_polyimage_4_USDA_NAIP_DOQQ_m_3711502_nw_11_1_20150725.tif', '/contents/predictions/processed/v1-00/HotC_polyimage_5_USDA_NAIP_DOQQ_m_3711502_sw_11_1_20150725.tif', '/contents/predictions/processed/v1-00/HotC_polyimage_6_USDA_NAIP_DOQQ_m_3711509_ne_11_1_20150725.tif', '/contents/predictions/processed/v1-00/HotC_polyimage_7_USDA_NAIP_DOQQ_m_3711509_nw_11_1_20150725.tif', '/contents/predictions/processed/v1-00/HotC_polyimage_8_USDA_NAIP_DOQQ_m_3711510_nw_11_1_20150725.tif', '/contents/predictions/processed/v1-00/HotC_polyimage_9_USDA_NAIP_DOQQ_m_3711608_ne_11_1_20150725.tif', '/contents/predictions/processed/v1-00/HotC_polyimage_10_USDA_NAIP_DOQQ_m_3711608_se_11_1_20150725.tif', '/contents/predictions/processed/v1-00/HotC_polyimage_11_USDA_NAIP_DOQQ_m_3711616_ne_11_1_20150725.tif', '/contents/predictions/processed/v1-00/HotC_polyimage_12_USDA_NAIP_DOQQ_m_3811549_se_11_1_20150725.tif', '/contents/predictions/processed/v1-00/HotC_polyimage_13_USDA_NAIP_DOQQ_m_3811549_sw_11_1_20150725.tif', '/contents/predictions/processed/v1-00/HotC_polyimage_14_USDA_NAIP_DOQQ_m_3811550_se_11_1_20150725.tif', '/contents/predictions/processed/v1-00/HotC_polyimage_15_USDA_NAIP_DOQQ_m_3811550_sw_11_1_20150725.tif', '/contents/predictions/processed/v1-00/HotC_polyimage_16_USDA_NAIP_DOQQ_m_3811557_ne_11_1_20150725.tif', '/contents/predictions/processed/v1-00/HotC_polyimage_17_USDA_NAIP_DOQQ_m_3811557_nw_11_1_20150725.tif', '/contents/predictions/processed/v1-00/HotC_polyimage_18_USDA_NAIP_DOQQ_m_3811557_se_11_1_20150725.tif', '/contents/predictions/processed/v1-00/HotC_polyimage_19_USDA_NAIP_DOQQ_m_3811557_sw_11_1_20150725.tif', '/contents/predictions/processed/v1-00/HotC_polyimage_20_USDA_NAIP_DOQQ_m_3811558_ne_11_1_20150725.tif', '/contents/predictions/processed/v1-00/HotC_polyimage_21_USDA_NAIP_DOQQ_m_3811558_nw_11_1_20150725.tif', '/contents/predictions/processed/v1-00/HotC_polyimage_22_USDA_NAIP_DOQQ_m_3811558_se_11_1_20150725.tif', '/contents/predictions/processed/v1-00/HotC_polyimage_23_USDA_NAIP_DOQQ_m_3811558_sw_11_1_20150725.tif', '/contents/predictions/processed/v1-00/HotC_polyimage_24_USDA_NAIP_DOQQ_m_3811656_se_11_1_20150725.tif', '/contents/predictions/processed/v1-00/HotC_polyimage_25_USDA_NAIP_DOQQ_m_3811664_ne_11_1_20150725.tif', '/contents/predictions/processed/v1-00/HotC_polyimage_26_USDA_NAIP_DOQQ_m_3811664_se_11_1_20150725.tif']\n"
     ]
    }
   ],
   "source": [
    "modeldirc = '/contents/predictions/processed/v1-00'\n",
    "ref = np.array(sorted(glob('%s/*.tif'%(modeldirc))))\n",
    "z = np.argsort(np.array([int(c.split('_')[2]) for c in ref]))\n",
    "ref = list(ref[z])"
   ]
  },
  {
   "cell_type": "code",
   "execution_count": 106,
   "metadata": {},
   "outputs": [
    {
     "data": {
      "text/plain": [
       "<matplotlib.image.AxesImage at 0x7f803d5398d0>"
      ]
     },
     "execution_count": 106,
     "metadata": {},
     "output_type": "execute_result"
    },
    {
     "data": {
      "image/png": "[encoded data removed]",
      "text/plain": [
       "<matplotlib.figure.Figure at 0x7f803d497438>"
      ]
     },
     "metadata": {},
     "output_type": "display_data"
    }
   ],
   "source": [
    "im = (np.moveaxis(gdal.Open(ref[0]).ReadAsArray(), 0, -1))[:,:,-1]\n",
    "#bin_im = np.zeros(np.shape(im)).astype('bool')\n",
    "#thr = 0.02\n",
    "#bin_im[im>thr]=True\n",
    "#col_edge = np.argmax(np.all(bin_im,axis = 0))\n",
    "#row_edge = np.argmax(np.all(bin_im,axis = 1))\n",
    "f, ax = plt.subplots(1,1,figsize=(16,16))\n",
    "#ax.imshow(im)\n",
    "mask = np.ones(np.shape(im))\n",
    "mask[im==0] = 0\n",
    "ax.imshow(mask)"
   ]
  },
  {
   "cell_type": "code",
   "execution_count": null,
   "metadata": {},
   "outputs": [],
   "source": [
    "outdirc = '%s/classified/%s'%(modeldirc,int(thr*100))\n",
    "if (not os.path.exists(outdirc)):\n",
    "    os.mkdir(outdirc) \n",
    "outname = '%s/%s'%(outdirc, os.path.basename(ref[0]))\n",
    "export_tif(bin_im, gdal.Open(ref[0]), outname)"
   ]
  },
  {
   "cell_type": "code",
   "execution_count": 111,
   "metadata": {},
   "outputs": [
    {
     "name": "stdout",
     "output_type": "stream",
     "text": [
      "gdalbuildvrt -srcnodata 0 /contents/predictions/processed/v1-00/mosaic.vrt /contents/predictions/processed/v1-00/*.tif\n",
      "python ./src/gdal2tiles2.py --processes 7 -z 4-17 -v /contents/predictions/processed/v1-00/mosaic.vrt /contents/predictions/processed/v1-00/tiles\n"
     ]
    }
   ],
   "source": [
    "mosaic_file = '%s/mosaic.vrt'%(modeldirc)\n",
    "mosaic_cmd = \"gdalbuildvrt -srcnodata 0 %s %s/*.tif\"%(mosaic_file, modeldirc)\n",
    "#mosaic_cmd = \"gdalbuildvrt %s %s\"%(mosaic_file, ' '.join(ref))\n",
    "tile_cmd = \"python ./src/gdal2tiles2.py --processes 7 -z 4-17 -v %s %s/tiles\"%(mosaic_file, modeldirc)\n",
    "print(mosaic_cmd)\n",
    "print(tile_cmd)"
   ]
  },
  {
   "cell_type": "code",
   "execution_count": 112,
   "metadata": {},
   "outputs": [
    {
     "name": "stdout",
     "output_type": "stream",
     "text": [
      "b'0...10...20...30...40...50...60...70...80...90...100 - done.\\n'\n"
     ]
    },
    {
     "name": "stderr",
     "output_type": "stream",
     "text": [
      "IOPub data rate exceeded.\n",
      "The notebook server will temporarily stop sending output\n",
      "to the client in order to avoid crashing it.\n",
      "To change this limit, set the config variable\n",
      "`--NotebookApp.iopub_data_rate_limit`.\n",
      "\n",
      "Current values:\n",
      "NotebookApp.iopub_data_rate_limit=1000000.0 (bytes/sec)\n",
      "NotebookApp.rate_limit_window=3.0 (secs)\n",
      "\n"
     ]
    }
   ],
   "source": [
    "start = time.time()\n",
    "p = subprocess.Popen(mosaic_cmd, stdout=subprocess.PIPE, \\\n",
    "                     stderr=subprocess.STDOUT, shell=True)\n",
    "stdout, stderr = p.communicate()\n",
    "print(stdout)\n",
    "p = subprocess.Popen(tile_cmd, stdout=subprocess.PIPE, \\\n",
    "                     stderr=subprocess.STDOUT, shell=True)\n",
    "#stdout, stderr = p.communicate()\n",
    "#print(stdout)\n",
    "print(time.time() - start)"
   ]
  },
  {
   "cell_type": "code",
   "execution_count": 120,
   "metadata": {},
   "outputs": [
    {
     "name": "stdout",
     "output_type": "stream",
     "text": [
      "b'gsutil requires python 2.7.\\n'\n"
     ]
    }
   ],
   "source": [
    "cmd='gsutil'\n",
    "p = subprocess.Popen(cmd, stdout=subprocess.PIPE, \\\n",
    "                     stderr=subprocess.STDOUT, shell=True)\n",
    "stdout, stderr = p.communicate()\n",
    "print(stdout)"
   ]
  },
  {
   "cell_type": "code",
   "execution_count": 121,
   "metadata": {},
   "outputs": [
    {
     "name": "stdout",
     "output_type": "stream",
     "text": [
      "Requirement already up-to-date: google-cloud-storage in /usr/local/lib/python3.5/dist-packages\n",
      "Requirement already up-to-date: google-auth>=1.2.0 in /usr/local/lib/python3.5/dist-packages (from google-cloud-storage)\n",
      "Requirement already up-to-date: google-resumable-media>=0.3.1 in /usr/local/lib/python3.5/dist-packages (from google-cloud-storage)\n",
      "Requirement already up-to-date: requests>=2.18.0 in /usr/local/lib/python3.5/dist-packages (from google-cloud-storage)\n",
      "Requirement already up-to-date: google-cloud-core<0.29dev,>=0.28.0 in /usr/local/lib/python3.5/dist-packages (from google-cloud-storage)\n",
      "Requirement already up-to-date: google-api-core<0.2.0dev,>=0.1.1 in /usr/local/lib/python3.5/dist-packages (from google-cloud-storage)\n",
      "Requirement already up-to-date: pyasn1-modules>=0.2.1 in /usr/local/lib/python3.5/dist-packages (from google-auth>=1.2.0->google-cloud-storage)\n",
      "Requirement already up-to-date: six>=1.9.0 in /usr/local/lib/python3.5/dist-packages (from google-auth>=1.2.0->google-cloud-storage)\n",
      "Requirement already up-to-date: rsa>=3.1.4 in /usr/local/lib/python3.5/dist-packages (from google-auth>=1.2.0->google-cloud-storage)\n",
      "Requirement already up-to-date: cachetools>=2.0.0 in /usr/local/lib/python3.5/dist-packages (from google-auth>=1.2.0->google-cloud-storage)\n",
      "Collecting certifi>=2017.4.17 (from requests>=2.18.0->google-cloud-storage)\n",
      "  Downloading certifi-2018.1.18-py2.py3-none-any.whl (151kB)\n",
      "Requirement already up-to-date: urllib3<1.23,>=1.21.1 in /usr/local/lib/python3.5/dist-packages (from requests>=2.18.0->google-cloud-storage)\n",
      "Requirement already up-to-date: idna<2.7,>=2.5 in /usr/local/lib/python3.5/dist-packages (from requests>=2.18.0->google-cloud-storage)\n",
      "Requirement already up-to-date: chardet<3.1.0,>=3.0.2 in /usr/local/lib/python3.5/dist-packages (from requests>=2.18.0->google-cloud-storage)\n",
      "Requirement already up-to-date: googleapis-common-protos<2.0dev,>=1.5.3 in /usr/local/lib/python3.5/dist-packages (from google-api-core<0.2.0dev,>=0.1.1->google-cloud-storage)\n",
      "Collecting protobuf>=3.0.0 (from google-api-core<0.2.0dev,>=0.1.1->google-cloud-storage)\n",
      "  Downloading protobuf-3.5.1-cp35-cp35m-manylinux1_x86_64.whl (6.4MB)\n",
      "Collecting pytz (from google-api-core<0.2.0dev,>=0.1.1->google-cloud-storage)\n",
      "  Downloading pytz-2018.3-py2.py3-none-any.whl (509kB)\n",
      "Collecting setuptools>=34.0.0 (from google-api-core<0.2.0dev,>=0.1.1->google-cloud-storage)\n",
      "  Downloading setuptools-38.5.1-py2.py3-none-any.whl (489kB)\n",
      "Requirement already up-to-date: pyasn1<0.5.0,>=0.4.1 in /usr/local/lib/python3.5/dist-packages (from pyasn1-modules>=0.2.1->google-auth>=1.2.0->google-cloud-storage)\n",
      "Installing collected packages: certifi, setuptools, protobuf, pytz\n",
      "  Found existing installation: certifi 2017.11.5\n",
      "    Uninstalling certifi-2017.11.5:\n",
      "      Successfully uninstalled certifi-2017.11.5\n",
      "  Found existing installation: setuptools 36.6.0\n",
      "    Uninstalling setuptools-36.6.0:\n",
      "      Successfully uninstalled setuptools-36.6.0\n",
      "  Found existing installation: protobuf 3.4.0\n",
      "    Uninstalling protobuf-3.4.0:\n",
      "      Successfully uninstalled protobuf-3.4.0\n",
      "  Found existing installation: pytz 2017.3\n",
      "    Uninstalling pytz-2017.3:\n",
      "      Successfully uninstalled pytz-2017.3\n",
      "Successfully installed certifi-2018.1.18 protobuf-3.5.1 pytz-2018.3 setuptools-38.5.1\n"
     ]
    }
   ],
   "source": [
    "%%bash\n",
    "pip3 install google-cloud-storage --upgrade"
   ]
  }
 ],
 "metadata": {
  "kernelspec": {
   "display_name": "Python 3",
   "language": "python",
   "name": "python3"
  },
  "language_info": {
   "codemirror_mode": {
    "name": "ipython",
    "version": 3
   },
   "file_extension": ".py",
   "mimetype": "text/x-python",
   "name": "python",
   "nbconvert_exporter": "python",
   "pygments_lexer": "ipython3",
   "version": "3.5.2"
  }
 },
 "nbformat": 4,
 "nbformat_minor": 2
}
