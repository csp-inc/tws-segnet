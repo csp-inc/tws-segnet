{
 "cells": [
  {
   "cell_type": "code",
   "execution_count": 6,
   "metadata": {},
   "outputs": [],
   "source": [
    "from time import time\n",
    "import numpy as np\n",
    "from keras.models import Sequential\n",
    "from keras.layers import Convolution2D, Activation, MaxPooling2D, Dense, Dropout, Flatten, AtrousConvolution2D\n",
    "from spp.SpatialPyramidPooling import SpatialPyramidPooling\n",
    "from PIL import Image\n",
    "from keras import utils\n",
    "from keras import optimizers\n",
    "from keras.callbacks import TensorBoard\n",
    "%matplotlib inline"
   ]
  },
  {
   "cell_type": "code",
   "execution_count": 3,
   "metadata": {},
   "outputs": [],
   "source": [
    "batch_size = 64\n",
    "num_channels = 3\n",
    "num_classes = 10 "
   ]
  },
  {
   "cell_type": "code",
   "execution_count": 4,
   "metadata": {},
   "outputs": [],
   "source": [
    "from keras.datasets import cifar10"
   ]
  },
  {
   "cell_type": "code",
   "execution_count": 5,
   "metadata": {},
   "outputs": [
    {
     "name": "stdout",
     "output_type": "stream",
     "text": [
      "Downloading data from https://www.cs.toronto.edu/~kriz/cifar-10-python.tar.gz\n",
      "170500096/170498071 [==============================] - 106s 1us/step\n"
     ]
    }
   ],
   "source": [
    "(x_train, y_train), (x_test, y_test) = cifar10.load_data()"
   ]
  },
  {
   "cell_type": "code",
   "execution_count": 7,
   "metadata": {},
   "outputs": [
    {
     "name": "stdout",
     "output_type": "stream",
     "text": [
      "(50000, 32, 32, 3)\n"
     ]
    }
   ],
   "source": [
    "print(x_train.shape)"
   ]
  },
  {
   "cell_type": "code",
   "execution_count": 8,
   "metadata": {},
   "outputs": [],
   "source": [
    "def array_add_channel(a):\n",
    "    '''\n",
    "    Take an array of images and reshapes the 2D image to hae an added channel single array\n",
    "    \n",
    "    Parameters:\n",
    "    -----------\n",
    "    a : 3d numpy array; \n",
    "        first dimesion is the number of images\n",
    "        second dimesion is the rows\n",
    "        third dimension is the cols\n",
    "        NOTE: tensorflow likes data to be in the order (Number, Height, Width, Channel)\n",
    "    '''\n",
    "    return(a.reshape(a.shape[0], a.shape[1], a.shape[2], 1))\n",
    "\n",
    "def pre_process_x(a):\n",
    "    '''\n",
    "    Takes a raw array of images, add_channels the data, converts to float, and normalizes\n",
    "    '''\n",
    "    #a = array_add_channel(a)\n",
    "    return(a.astype('float32')/255)"
   ]
  },
  {
   "cell_type": "code",
   "execution_count": 9,
   "metadata": {},
   "outputs": [],
   "source": [
    "x_train = pre_process_x(x_train)\n",
    "x_test = pre_process_x(x_test)\n",
    "y_train = utils.to_categorical(y_train, num_classes)\n",
    "y_test = utils.to_categorical(y_test, num_classes)"
   ]
  },
  {
   "cell_type": "code",
   "execution_count": 30,
   "metadata": {},
   "outputs": [
    {
     "name": "stdout",
     "output_type": "stream",
     "text": [
      "(50000, 10)\n",
      "(50000, 32, 32, 3)\n"
     ]
    }
   ],
   "source": [
    "print(y_train.shape)\n",
    "print(x_train.shape)"
   ]
  },
  {
   "cell_type": "code",
   "execution_count": 31,
   "metadata": {},
   "outputs": [],
   "source": [
    "def simple_model(kernel, input_shape, num_classes):\n",
    "    model = Sequential()\n",
    "    model.add(Convolution2D(32, kernel, padding='same', activation='relu',input_shape=input_shape))\n",
    "    model.add(Convolution2D(32, kernel, activation='relu'))\n",
    "    model.add(MaxPooling2D(pool_size=(2,2)))\n",
    "    model.add(Dropout(0.25))\n",
    "    \n",
    "    #model.add(Convolution2D(64, kernel, activation='relu', padding='same')) \n",
    "    #model.add(Convolution2D(64, kernel, activation='relu')) \n",
    "    #model.add(MaxPooling2D(pool_size=(2,2)))\n",
    "    #model.add(Dropout(0.25))\n",
    "    \n",
    "    model.add(Convolution2D(128, kernel, dilation_rate=(2,2), activation='relu', border_mode='valid'))\n",
    "    model.add(Convolution2D(128, kernel, dilation_rate=(2,2), activation='relu', border_mode='valid'))\n",
    "    \n",
    "    model.add(Flatten())\n",
    "    model.add(Dense((32*32), activation='relu'))\n",
    "    model.add(Dropout(0.5))\n",
    "    model.add(Dense(num_classes, activation='softmax'))\n",
    "    return(model)"
   ]
  },
  {
   "cell_type": "code",
   "execution_count": 32,
   "metadata": {},
   "outputs": [],
   "source": [
    "kernel = (3,3)\n",
    "input_shape = x_train.shape[1:]"
   ]
  },
  {
   "cell_type": "code",
   "execution_count": 34,
   "metadata": {},
   "outputs": [
    {
     "name": "stdout",
     "output_type": "stream",
     "text": [
      "_________________________________________________________________\n",
      "Layer (type)                 Output Shape              Param #   \n",
      "=================================================================\n",
      "conv2d_37 (Conv2D)           (None, 32, 32, 32)        896       \n",
      "_________________________________________________________________\n",
      "conv2d_38 (Conv2D)           (None, 30, 30, 32)        9248      \n",
      "_________________________________________________________________\n",
      "max_pooling2d_14 (MaxPooling (None, 15, 15, 32)        0         \n",
      "_________________________________________________________________\n",
      "dropout_15 (Dropout)         (None, 15, 15, 32)        0         \n",
      "_________________________________________________________________\n",
      "conv2d_39 (Conv2D)           (None, 11, 11, 128)       36992     \n",
      "_________________________________________________________________\n",
      "conv2d_40 (Conv2D)           (None, 7, 7, 128)         147584    \n",
      "_________________________________________________________________\n",
      "flatten_2 (Flatten)          (None, 6272)              0         \n",
      "_________________________________________________________________\n",
      "dense_3 (Dense)              (None, 1024)              6423552   \n",
      "_________________________________________________________________\n",
      "dropout_16 (Dropout)         (None, 1024)              0         \n",
      "_________________________________________________________________\n",
      "dense_4 (Dense)              (None, 10)                10250     \n",
      "=================================================================\n",
      "Total params: 6,628,522\n",
      "Trainable params: 6,628,522\n",
      "Non-trainable params: 0\n",
      "_________________________________________________________________\n"
     ]
    },
    {
     "name": "stderr",
     "output_type": "stream",
     "text": [
      "/usr/local/lib/python3.5/dist-packages/ipykernel_launcher.py:13: UserWarning: Update your `Conv2D` call to the Keras 2 API: `Conv2D(128, (3, 3), padding=\"valid\", dilation_rate=(2, 2), activation=\"relu\")`\n",
      "  del sys.path[0]\n",
      "/usr/local/lib/python3.5/dist-packages/ipykernel_launcher.py:14: UserWarning: Update your `Conv2D` call to the Keras 2 API: `Conv2D(128, (3, 3), padding=\"valid\", dilation_rate=(2, 2), activation=\"relu\")`\n",
      "  \n"
     ]
    }
   ],
   "source": [
    "m1 = simple_model(kernel, input_shape, num_classes)\n",
    "m1.summary()"
   ]
  },
  {
   "cell_type": "code",
   "execution_count": 35,
   "metadata": {},
   "outputs": [],
   "source": [
    "tensorboard = TensorBoard(log_dir='logs/{}'.format(time()))"
   ]
  },
  {
   "cell_type": "code",
   "execution_count": 36,
   "metadata": {},
   "outputs": [],
   "source": [
    "opt = optimizers.Adam(lr=0.001, beta_1=0.9, beta_2=0.999, epsilon=1e-08, decay=0.0)\n",
    "m1.compile(loss='categorical_crossentropy', optimizer=opt, metrics=['accuracy'])"
   ]
  },
  {
   "cell_type": "code",
   "execution_count": 38,
   "metadata": {},
   "outputs": [
    {
     "name": "stdout",
     "output_type": "stream",
     "text": [
      "Epoch 1/5\n",
      "50000/50000 [==============================] - 13s 254us/step - loss: 0.2216 - acc: 0.9212\n",
      "Epoch 2/5\n",
      "50000/50000 [==============================] - 13s 254us/step - loss: 0.2063 - acc: 0.9286\n",
      "Epoch 3/5\n",
      "50000/50000 [==============================] - 13s 254us/step - loss: 0.1882 - acc: 0.9327\n",
      "Epoch 4/5\n",
      "50000/50000 [==============================] - 13s 255us/step - loss: 0.1825 - acc: 0.9363\n",
      "Epoch 5/5\n",
      "50000/50000 [==============================] - 13s 262us/step - loss: 0.1715 - acc: 0.9413\n"
     ]
    },
    {
     "data": {
      "text/plain": [
       "<keras.callbacks.History at 0x7fcefc3394a8>"
      ]
     },
     "execution_count": 38,
     "metadata": {},
     "output_type": "execute_result"
    }
   ],
   "source": [
    "m1.fit(x_train, y_train, batch_size=100, epochs=5, verbose=1, callbacks=[tensorboard])"
   ]
  },
  {
   "cell_type": "code",
   "execution_count": null,
   "metadata": {},
   "outputs": [],
   "source": []
  }
 ],
 "metadata": {
  "kernelspec": {
   "display_name": "Python 3",
   "language": "python",
   "name": "python3"
  },
  "language_info": {
   "codemirror_mode": {
    "name": "ipython",
    "version": 3
   },
   "file_extension": ".py",
   "mimetype": "text/x-python",
   "name": "python",
   "nbconvert_exporter": "python",
   "pygments_lexer": "ipython3",
   "version": "3.5.2"
  }
 },
 "nbformat": 4,
 "nbformat_minor": 2
}
