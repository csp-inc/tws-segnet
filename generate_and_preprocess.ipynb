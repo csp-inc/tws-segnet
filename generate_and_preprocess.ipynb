{
 "cells": [
  {
   "cell_type": "code",
   "execution_count": 1,
   "metadata": {},
   "outputs": [],
   "source": [
    "from src.segtools import move_data, convert_img_type, \\\n",
    "    make_overlays, match_data_dircs\n",
    "%load_ext autoreload\n",
    "%autoreload 2"
   ]
  },
  {
   "cell_type": "markdown",
   "metadata": {},
   "source": [
    "### Generate training and validation data\n",
    "use skynet-data to generate the mapbox / OSM image and labeled data pairs\n",
    "\n",
    "`git clone https://github.com/developmentseed/skynet-data`\n",
    "\n",
    "and edit the `Makefile` to set the parameters desired. Then run the command\n",
    "\n",
    "`docker-compose run data`"
   ]
  },
  {
   "cell_type": "code",
   "execution_count": 3,
   "metadata": {},
   "outputs": [
    {
     "data": {
      "text/plain": [
       "()"
      ]
     },
     "execution_count": 3,
     "metadata": {},
     "output_type": "execute_result"
    }
   ],
   "source": [
    "# move data first from the skynet directory to the local project directory\n",
    "move_data('/data/train.txt', '/contents/images/train')\n",
    "move_data('/data/val.txt', '/contents/images/val')\n",
    "# if data is in the wrong format ('jpeg' -> 'png')\n",
    "convert_img_type('/contents/images/val/a')\n",
    "convert_img_type('/contents/images/train/a')"
   ]
  },
  {
   "cell_type": "code",
   "execution_count": 4,
   "metadata": {},
   "outputs": [
    {
     "data": {
      "text/plain": [
       "()"
      ]
     },
     "execution_count": 4,
     "metadata": {},
     "output_type": "execute_result"
    }
   ],
   "source": [
    "make_overlays('/contents/images/train')\n",
    "make_overlays('/contents/images/val')"
   ]
  },
  {
   "cell_type": "markdown",
   "metadata": {},
   "source": [
    "### Manual data quality control/assurance\n",
    "\n",
    "After creating overlays (labels over images) in directory 'ab' proceed with manual interpretation of the images to filter poorly aligned/ missing labels on road images. 'Bad' labels should be deleted in the 'ab' directory to optimize the detection of road features for semantic segmentation.\n",
    "\n",
    "### Note:\n",
    "\n",
    "Not performing QA/QC on the data still works and returns roughly a 88-92% categorical accuracy, however, better performance only applies to *_cleaned_* samples."
   ]
  },
  {
   "cell_type": "code",
   "execution_count": 27,
   "metadata": {},
   "outputs": [
    {
     "data": {
      "text/plain": [
       "()"
      ]
     },
     "execution_count": 27,
     "metadata": {},
     "output_type": "execute_result"
    }
   ],
   "source": [
    "# now perform manual removal of bad images in the 'ab' directory\n",
    "# and then match directory 'a' and 'b' to it\n",
    "match_data_dircs('/contents/images/train')"
   ]
  },
  {
   "cell_type": "code",
   "execution_count": 25,
   "metadata": {},
   "outputs": [],
   "source": [
    "from glob import glob\n",
    "import os\n",
    "import shutil"
   ]
  },
  {
   "cell_type": "code",
   "execution_count": 30,
   "metadata": {},
   "outputs": [],
   "source": [
    "lst = sorted(glob('./images/val/ab/*.png'))\n"
   ]
  },
  {
   "cell_type": "code",
   "execution_count": 31,
   "metadata": {},
   "outputs": [],
   "source": [
    "count = 0\n",
    "for i in range(500):\n",
    "    shutil.move('./images/val/a/%s'%os.path.basename(lst[i]), './images/train/a/%s'%os.path.basename(lst[i]))\n",
    "    shutil.move('./images/val/b/%s'%os.path.basename(lst[i]), './images/train/b/%s'%os.path.basename(lst[i]))\n",
    "    shutil.move('./images/val/ab/%s'%os.path.basename(lst[i]), './images/train/ab/%s'%os.path.basename(lst[i]))\n",
    "    shutil.move('./images/val/bb/%s'%os.path.basename(lst[i]), './images/train/bb/%s'%os.path.basename(lst[i]))"
   ]
  },
  {
   "cell_type": "code",
   "execution_count": null,
   "metadata": {},
   "outputs": [],
   "source": []
  }
 ],
 "metadata": {
  "kernelspec": {
   "display_name": "Python 3",
   "language": "python",
   "name": "python3"
  },
  "language_info": {
   "codemirror_mode": {
    "name": "ipython",
    "version": 3
   },
   "file_extension": ".py",
   "mimetype": "text/x-python",
   "name": "python",
   "nbconvert_exporter": "python",
   "pygments_lexer": "ipython3",
   "version": "3.5.2"
  }
 },
 "nbformat": 4,
 "nbformat_minor": 2
}
