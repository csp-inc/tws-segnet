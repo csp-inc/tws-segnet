{
 "cells": [
  {
   "cell_type": "code",
   "execution_count": 1,
   "metadata": {},
   "outputs": [
    {
     "name": "stderr",
     "output_type": "stream",
     "text": [
      "Using TensorFlow backend.\n"
     ]
    }
   ],
   "source": [
    "import numpy as np\n",
    "import matplotlib.pyplot as plt\n",
    "from matplotlib.colors import LogNorm\n",
    "from keras import optimizers\n",
    "from glob import glob\n",
    "import gdal\n",
    "import os\n",
    "import yaml \n",
    "from PIL import Image\n",
    "%matplotlib inline\n",
    "\n",
    "\n",
    "import sys\n",
    "sys.path.insert(0,'/contents/src')\n",
    "import src.strider as strider\n",
    "import src.segnet_model as segnet_model\n",
    "import segtools"
   ]
  },
  {
   "cell_type": "code",
   "execution_count": 2,
   "metadata": {},
   "outputs": [
    {
     "name": "stdout",
     "output_type": "stream",
     "text": [
      "Model compiled!\n"
     ]
    }
   ],
   "source": [
    "model_dirc = './fit_models/beta_v1'\n",
    "model_json = '%s/seg_net.json'%(model_dirc)\n",
    "model_weight = '%s/seg_net.h5'%(model_dirc) \n",
    "model = segnet_model.import_model(model_json, model_weight)\n",
    "opt = optimizers.Adam(lr=0.001, beta_1=0.9, beta_2=0.999, epsilon=1e-08, decay=0.0)\n",
    "model.compile(loss='categorical_crossentropy', \\\n",
    "                     optimizer=opt, metrics=['categorical_accuracy'])\n",
    "print('Model compiled!')"
   ]
  },
  {
   "cell_type": "code",
   "execution_count": null,
   "metadata": {},
   "outputs": [
    {
     "name": "stdout",
     "output_type": "stream",
     "text": [
      "696/696 [==============================] - 30s 43ms/step\n"
     ]
    }
   ],
   "source": [
    "tif_dirc = './predictions/images'\n",
    "tifs = [os.path.basename(i) for i in sorted(glob('%s/*.tif'%tif_dirc))]\n",
    "num_classes = 2\n",
    "input_shape = 256\n",
    "for i in range(len(tifs)):\n",
    "    s_image = strider.Image(tifs[i]) #instantiate strider Image object\n",
    "    # acquire data\n",
    "    data_dirc = './predictions/test/a'\n",
    "    predict_x = segtools.get_data('%s'%(data_dirc))\n",
    "    out_files = sorted(glob('%s/*.png'%(data_dirc)))\n",
    "    predict_x_batch = segtools.pre_process_x(predict_x)\n",
    "    # predict on data\n",
    "    pr = model.predict(predict_x_batch, verbose=1)\n",
    "    for j in range(len(pr)):\n",
    "        prediction = pr[j].reshape((input_shape,input_shape,num_classes))\n",
    "        out = (prediction[:,:,0].reshape((input_shape,input_shape))*255).astype('uint8')\n",
    "        outname = '%s/%s'%('./predictions/test/b', os.path.basename(out_files[j]))\n",
    "        Image.fromarray(out).save(outname)\n",
    "    s_image.collect_proc_windows()\n",
    "    mosaic = s_image.reassemble_windows()\n",
    "    s_image.remove_window_files() #clean up\n",
    "    out_tiffile='%s/%s'%('./predictions/test/final',s_image.filename)\n",
    "    ref_tif = gdal.Open('%s/%s'%(tif_dirc,s_image.filename))\n",
    "    ref_img = ref_tif.ReadAsArray()\n",
    "    #border_mask = np.zeros((np.shape(ref_img)[1], np.shape(ref_img)[2])).astype('bool')\n",
    "    #border_mask[(ref_img[0,:,:]==0) & (ref_img[1,:,:]==0) & \\\n",
    "    #            (ref_img[2,:,:]==0)] = True\n",
    "    #bufr = 64 #cell buffer\n",
    "    #border_mask = segtools.extend_border_mask(border_mask, bufr) \n",
    "    out_img = mosaic[:,:,0]\n",
    "    #out_img[border_mask] = 0\n",
    "    alpha_mask = 255-out_img\n",
    "    segtools.export_tif(out_img, ref_tif, out_tiffile, alpha_mask)"
   ]
  },
  {
   "cell_type": "code",
   "execution_count": null,
   "metadata": {},
   "outputs": [],
   "source": [
    "a = gdal.Open(outname).ReadAsArray()"
   ]
  },
  {
   "cell_type": "code",
   "execution_count": null,
   "metadata": {},
   "outputs": [],
   "source": [
    "\n",
    "f,ax =plt.subplots(1,1,figsize=(15,15))\n",
    "ax.imshow(mosaic[:,:,0])\n",
    "#ax.imshow(border_mask, alpha=0.1)\n",
    "\n",
    "    "
   ]
  },
  {
   "cell_type": "code",
   "execution_count": null,
   "metadata": {},
   "outputs": [],
   "source": [
    "print(tifs[8])"
   ]
  },
  {
   "cell_type": "code",
   "execution_count": null,
   "metadata": {},
   "outputs": [],
   "source": [
    "np.where(border_mask)\n"
   ]
  },
  {
   "cell_type": "code",
   "execution_count": null,
   "metadata": {},
   "outputs": [],
   "source": [
    "print(np.shape(mosaic))\n",
    "print(np.shape(ref_img))\n"
   ]
  },
  {
   "cell_type": "markdown",
   "metadata": {},
   "source": [
    "# Inspect outputs..."
   ]
  },
  {
   "cell_type": "code",
   "execution_count": null,
   "metadata": {},
   "outputs": [],
   "source": [
    "tif_file = sorted(glob('*.tif'))\n",
    "tif_img = gdal.Open(tif_file[0])\n",
    "tif_img = np.moveaxis(tif_img.ReadAsArray()[:3,:,:],0,-1)"
   ]
  },
  {
   "cell_type": "code",
   "execution_count": null,
   "metadata": {
    "scrolled": false
   },
   "outputs": [],
   "source": [
    "f, ax = plt.subplots(1,1,figsize=(20,20))\n",
    "ax.imshow(tif_img)\n",
    "cax = ax.imshow(mos_tr, alpha=0.5)\n",
    "cbar = f.colorbar(cax)\n",
    "#f.savefig('predict_%s'%(tif_file[0]))"
   ]
  },
  {
   "cell_type": "code",
   "execution_count": null,
   "metadata": {},
   "outputs": [],
   "source": [
    "alpha_mask = np.zeros(np.shape(mos_tr))\n",
    "thr=0.02\n",
    "alpha_mask[mos_tr>thr] = 1\n",
    "plt.imshow(alpha_mask)"
   ]
  },
  {
   "cell_type": "code",
   "execution_count": null,
   "metadata": {},
   "outputs": [],
   "source": [
    "tiffs = glob('*.tif')\n",
    "print(tiffs)\n",
    "\n"
   ]
  },
  {
   "cell_type": "code",
   "execution_count": null,
   "metadata": {},
   "outputs": [],
   "source": [
    "plt.imshow(alpha_mask);\n",
    "plt.colorbar()\n",
    "\n"
   ]
  },
  {
   "cell_type": "code",
   "execution_count": null,
   "metadata": {},
   "outputs": [],
   "source": [
    "wd = '/contents/images/predict/b'\n",
    "imgs = glob('%s/*.png'%(wd))\n",
    "img_nums = list(set([i[-28:-21] for i in imgs]))\n",
    "dates = list(set([i[-12:-4] for i in imgs]))\n",
    "qq = list(set([i[-20:-18] for i in imgs]))\n",
    "rows = list(set([i[-43:-39] for i in imgs]))\n",
    "cols = list(set([i[-35:-31] for i in imgs]))\n",
    "\n",
    "#gather by the specific i, d, and q\n",
    "mosaic_names = []\n",
    "crop = 1\n",
    "for d in dates:\n",
    "    for im in img_nums:\n",
    "        for q in qq:\n",
    "            data_dir = '%s/%s/%s/%s'%(wd, d, im, q)\n",
    "            n=len(data_dir)\n",
    "            subfiles = glob('%s/*.png'%data_dir)\n",
    "            if (len(subfiles)==0): #sometimes we don't have that quadrat\n",
    "                continue\n",
    "            row_nums = list(set([int(i[-43:-39]) for i in subfiles]))\n",
    "            col_nums = list(set([int(i[-35:-31]) for i in subfiles]))\n",
    "            R = max(row_nums) #number of rows\n",
    "            C = max(col_nums) #number of cols\n",
    "            out_filename = '/contents/images/mosaics/v3/m_%s_%s_11_1_%s.png'%(im, q, d)\n",
    "            #now window movement\n",
    "            \n",
    "            # 2 nested for loops\n",
    "            bigcat = []\n",
    "            for r in range(R+1):\n",
    "                # get a list of names for that particular row\n",
    "                z = [f for f in subfiles if 'row%04d'%r in f]\n",
    "                row_list = []\n",
    "                for c in range(C+1):\n",
    "                    img = np.array(Image.open([ig for ig in z if 'col%04d'%(c) in ig][0]))\n",
    "                    row_list.append(img) #crop the image\n",
    "                bigcat.append(np.concatenate(row_list, axis=1))\n",
    "            out = Image.fromarray(np.concatenate(bigcat, axis=0))\n",
    "            out.save(out_filename)\n",
    "            mosaic_names.append(out_filename)"
   ]
  },
  {
   "cell_type": "code",
   "execution_count": null,
   "metadata": {},
   "outputs": [],
   "source": [
    "mosaics = sorted(glob('/contents/images/mosaics/v3/*.png'))\n",
    "tiffs = sorted(glob('/contents/images/predict/original/*.tif'))\n",
    "mosaics[0][:-3]\n",
    "# creates tif from the img\n",
    "gt = []\n",
    "proj = []\n",
    "pr = []\n",
    "imgs = []\n",
    "shape_diff = []\n",
    "for i in range(len(mosaics)):\n",
    "    pr = np.array(Image.open(mosaics[i]))\n",
    "    \n",
    "    im = gdal.Open(tiffs[i])\n",
    "    gt = im.GetGeoTransform()\n",
    "    proj = im.GetProjection()\n",
    "    xsize = im.RasterXSize\n",
    "    ysize = im.RasterYSize\n",
    "    shape_diff = np.array(pr_m.shape) - np.array([ysize, xsize])\n",
    "    \n",
    "    outfilename = mosaics[i][:-4] + '.tif'\n",
    "    driver = gdal.GetDriverByName('GTiff')\n",
    "    out = driver.Create(outfilename, xsize, ysize, 1, gdal.GDT_Byte)\n",
    "    out.SetGeoTransform(gt)\n",
    "    out.SetProjection(proj)\n",
    "    out.GetRasterBand(1).WriteArray(pr[:-shape_diff[0],:-shape_diff[1]])\n",
    "\n",
    "    "
   ]
  }
 ],
 "metadata": {
  "kernelspec": {
   "display_name": "Python 3",
   "language": "python",
   "name": "python3"
  },
  "language_info": {
   "codemirror_mode": {
    "name": "ipython",
    "version": 3
   },
   "file_extension": ".py",
   "mimetype": "text/x-python",
   "name": "python",
   "nbconvert_exporter": "python",
   "pygments_lexer": "ipython3",
   "version": "3.5.2"
  }
 },
 "nbformat": 4,
 "nbformat_minor": 2
}
