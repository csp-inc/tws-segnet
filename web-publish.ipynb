{
 "cells": [
  {
   "cell_type": "code",
   "execution_count": 1,
   "metadata": {},
   "outputs": [],
   "source": [
    "from glob import glob\n",
    "import numpy as np\n",
    "import os\n",
    "import gdal\n",
    "from matplotlib import pyplot as plt\n",
    "from src.segtools import export_tif\n",
    "import subprocess\n",
    "import time\n",
    "%matplotlib inline\n",
    "%load_ext autoreload\n",
    "%autoreload 2"
   ]
  },
  {
   "cell_type": "code",
   "execution_count": 2,
   "metadata": {},
   "outputs": [],
   "source": [
    "modeldirc = '/contents/predictions/processed/v1-00'\n",
    "ref = np.array(sorted(glob('%s/*.tif'%(modeldirc))))\n",
    "z = np.argsort(np.array([int(c.split('_')[2]) for c in ref]))\n",
    "ref = list(ref[z])\n",
    "\n",
    "def get_image_array(filename, band=0):\n",
    "    return(1-(np.moveaxis(gdal.Open(filename).ReadAsArray(), 0, -1)[:,:,band]/255))\n",
    "\n",
    "def gen_border_mask(filename):\n",
    "    im = get_image_array(filename, band=3)\n",
    "    mask = np.ones(np.shape(im)).astype('bool')\n",
    "    mask[im==1] = False\n",
    "    col_off = np.argmin(mask[0,:])\n",
    "    row_off = np.argmin(mask[:,0])\n",
    "    if col_off == 0:\n",
    "        col_off = np.shape(im)[1]\n",
    "    if row_off == 0:\n",
    "        row_off = np.shape(im)[0]\n",
    "    offsets = (row_off, col_off)\n",
    "    return(mask, offsets)\n",
    "     "
   ]
  },
  {
   "cell_type": "markdown",
   "metadata": {},
   "source": [
    "# Trying to build a feature layer of 5km2 bounding boxes"
   ]
  },
  {
   "cell_type": "code",
   "execution_count": null,
   "metadata": {},
   "outputs": [],
   "source": [
    "#clip the image\n",
    "for i in range(len(ref)):\n",
    "    im = get_image_array(ref[i])\n",
    "    mask, offsets = gen_border_mask(ref[i])\n",
    "    outdirc = '%s/mosaic'%(modeldirc)\n",
    "    if (not os.path.exists(outdirc)):\n",
    "        os.mkdir(outdirc) \n",
    "    outname = '%s/%s'%(outdirc, os.path.basename(ref[i]))\n",
    "    export_tif(im[:offsets[0],:offsets[1]], gdal.Open(ref[i]), outname, alpha_mask=None)\n",
    "\n",
    "mosaic_file = '%s/clippedmosaic.vrt'%(outdirc)\n",
    "mosaic_cmd = \"gdalbuildvrt -srcnodata 0 %s %s/*.tif\"%(mosaic_file, outdirc)\n",
    "p = subprocess.Popen(mosaic_cmd, stdout=subprocess.PIPE, \\\n",
    "                     stderr=subprocess.STDOUT, shell=True)\n",
    "stdout, stderr = p.communicate()\n",
    "print(stdout)\n"
   ]
  },
  {
   "cell_type": "code",
   "execution_count": null,
   "metadata": {},
   "outputs": [],
   "source": [
    "# try to get a raster mask that aggregates at a 5km resolution of counts above the 0.35 probability\n",
    "mosaic_f = '/contents/predictions/processed/v1-00/mosaic/clippedmosaic.vrt'\n",
    "mosaic = gdal.Open(mosaic_f)\n",
    "gt = mosaic.GetGeoTransform()\n",
    "proj = mosaic.GetProjection()\n",
    "agg_size = 5000 #(trying for 5km)\n",
    "cellsize = gt[1]*agg_size\n",
    "numx = mosaic.RasterXSize // agg_size + 1\n",
    "numy = mosaic.RasterYSize // agg_size + 1\n",
    "num_features = numx*numy\n",
    "data = mosaic.GetRasterBand(1).ReadAsArray()\n",
    "print(gt, proj, cellsize)\n",
    "print(numx, numy)\n",
    "print('%s,%s'%(mosaic.RasterXSize, mosaic.RasterYSize))"
   ]
  },
  {
   "cell_type": "code",
   "execution_count": null,
   "metadata": {},
   "outputs": [],
   "source": [
    "#summarize the cells...\n",
    "thr = 0.035\n",
    "counts = np.zeros((numy, numx)).astype('uint8')\n",
    "for row in range(numy):\n",
    "    for col in range(numx):\n",
    "        if (row ==(numy-1)) and (col==(numx-1)):\n",
    "            cellcount = data[(row*agg_size):, (col*agg_size):]\n",
    "        elif row ==(numy-1):\n",
    "            cellcount = data[(row*agg_size):, (col*agg_size):((col+1)*agg_size)]\n",
    "        elif col ==(numx-1):\n",
    "            cellcount = data[(row*agg_size):((row+1)*agg_size), (col*agg_size):]\n",
    "        else:\n",
    "            cellcount = data[(row*agg_size):((row+1)*agg_size), (col*agg_size):((col+1)*agg_size)]\n",
    "        counts[row, col] = int(np.sum(cellcount>=thr)/1000) #units are km2 "
   ]
  },
  {
   "cell_type": "code",
   "execution_count": null,
   "metadata": {},
   "outputs": [],
   "source": [
    "print(counts)\n",
    "plt.imshow(counts)"
   ]
  },
  {
   "cell_type": "code",
   "execution_count": null,
   "metadata": {},
   "outputs": [],
   "source": [
    "outdirc = '%s/colorized'%(modeldirc)\n",
    "mosaic_file = '%s/cmosaic.vrt'%(outdirc)\n",
    "print(gdal.Open(mosaic_file).GetGeoTransform())"
   ]
  },
  {
   "cell_type": "code",
   "execution_count": null,
   "metadata": {},
   "outputs": [],
   "source": [
    "ref = gdal.Open('/contents/predictions/processed/v1-00/mosaic/clippedmosaic.vrt')\n",
    "print(ref.GetGeoTransform(), ref.RasterXSize, ref.RasterYSize)"
   ]
  },
  {
   "cell_type": "code",
   "execution_count": null,
   "metadata": {},
   "outputs": [],
   "source": [
    "mosaic_dirc = '/contents/predictions/processed/v1-00'j\n",
    "#use a ref\n",
    "ref = gdal.Open('%s/mosaic/clippedmosaic.vrt'%mosaic_dirc)\n",
    "gt = ref.GetGeoTransform()\n",
    "proj = ref.GetProjection()\n",
    "cellsize = gt[1]*5000\n",
    "#export this as a tiff\n",
    "outname='%s/mosaic/mosaic_counts.tif'%(mosaic_dirc)\n",
    "gt_out = [gt[0], cellsize, gt[2], gt[3], gt[4], -cellsize]\n",
    "proj_out = proj\n",
    "xsize_out = numx\n",
    "ysize_out = numy\n",
    "driver = gdal.GetDriverByName('GTiff')\n",
    "out = driver.Create(outname, xsize_out, ysize_out, 4, gdal.GDT_Byte)\n",
    "out.SetGeoTransform(gt_out)\n",
    "out.SetProjection(proj)\n",
    "out.GetRasterBand(1).WriteArray(counts)\n",
    "out.GetRasterBand(2).WriteArray(np.zeros(np.shape(counts)))\n",
    "out.GetRasterBand(3).WriteArray(np.zeros(np.shape(counts)))\n",
    "out.GetRasterBand(4).WriteArray(np.ones(np.shape(counts))*255)\n",
    "\n",
    "out = None"
   ]
  },
  {
   "cell_type": "code",
   "execution_count": null,
   "metadata": {},
   "outputs": [],
   "source": [
    "a = gdal.Open(outname).ReadAsArray()\n",
    "print(a)"
   ]
  },
  {
   "cell_type": "code",
   "execution_count": null,
   "metadata": {},
   "outputs": [],
   "source": [
    "tile_cmd = \"python ./src/gdal2tiles2.py --processes 7 -z 4-13 -v %s %s/mosaic/tiles\"%(outname, \\\n",
    "                                                                               mosaic_dirc)\n",
    "p = subprocess.Popen(tile_cmd, stdout=subprocess.PIPE, \\\n",
    "                     stderr=subprocess.STDOUT, shell=True)\n",
    "stdout, stderr = p.communicate()\n",
    "print(stdout)\n"
   ]
  },
  {
   "cell_type": "code",
   "execution_count": null,
   "metadata": {},
   "outputs": [],
   "source": [
    "'''# we want to make a geojson \n",
    "{\"type\": \"FeatureCollection\", \\\n",
    " \"features\":\\\n",
    " [{\"type\": \"Feature\", \\\n",
    "               \"geometry\":{\"type\": \"Polygon\",\\\n",
    "                           \"coordinates\":[[[minx,maxy],[maxx,maxy],[maxx,miny],[minx,miny],[minx,maxy]]]}}],\\\n",
    " [{\"type\": \"Feature\", \\\n",
    "               \"geometry\":{\"type\": \"Polygon\", \\\n",
    "                           \"coordinates\":[[[x,y],[x,y],[x,y],[x,y]]]}}],\\\n",
    "}\n",
    "'''"
   ]
  },
  {
   "cell_type": "markdown",
   "metadata": {},
   "source": [
    "# END feature construction and mask"
   ]
  },
  {
   "cell_type": "code",
   "execution_count": 3,
   "metadata": {},
   "outputs": [
    {
     "data": {
      "image/png": "[encoded data removed]",
      "text/plain": [
       "<matplotlib.figure.Figure at 0x7f28b43a6e48>"
      ]
     },
     "metadata": {},
     "output_type": "display_data"
    }
   ],
   "source": [
    "i=0\n",
    "im = get_image_array(ref[i])\n",
    "mask, offsets = gen_border_mask(ref[i])\n",
    "mapped = (plt.cm.viridis_r(im)).astype('uint8')\n",
    "plt.imshow(mapped)\n",
    "cb = plt.colorbar()\n",
    "cb.set_label('probability')\n",
    "plt.savefig('/contents/assets/colorbar.png', dpi=600, bbox_inches='tight')"
   ]
  },
  {
   "cell_type": "markdown",
   "metadata": {},
   "source": [
    "#### try colorizing\n"
   ]
  },
  {
   "cell_type": "markdown",
   "metadata": {},
   "source": [
    "What we would like is for all the pixels that are above the threshold to become yellow and all those below to be blue."
   ]
  },
  {
   "cell_type": "code",
   "execution_count": 7,
   "metadata": {},
   "outputs": [
    {
     "name": "stdout",
     "output_type": "stream",
     "text": [
      "created /contents/predictions/processed/v1-00/colorized/bin/10/HotC_polyimage_0_USDA_NAIP_DOQQ_m_3711501_ne_11_1_20150725.tif\n",
      "created /contents/predictions/processed/v1-00/colorized/bin/10/HotC_polyimage_1_USDA_NAIP_DOQQ_m_3711501_nw_11_1_20150725.tif\n",
      "created /contents/predictions/processed/v1-00/colorized/bin/10/HotC_polyimage_2_USDA_NAIP_DOQQ_m_3711501_se_11_1_20150725.tif\n",
      "created /contents/predictions/processed/v1-00/colorized/bin/10/HotC_polyimage_3_USDA_NAIP_DOQQ_m_3711501_sw_11_1_20150725.tif\n",
      "created /contents/predictions/processed/v1-00/colorized/bin/10/HotC_polyimage_4_USDA_NAIP_DOQQ_m_3711502_nw_11_1_20150725.tif\n",
      "created /contents/predictions/processed/v1-00/colorized/bin/10/HotC_polyimage_5_USDA_NAIP_DOQQ_m_3711502_sw_11_1_20150725.tif\n",
      "created /contents/predictions/processed/v1-00/colorized/bin/10/HotC_polyimage_6_USDA_NAIP_DOQQ_m_3711509_ne_11_1_20150725.tif\n",
      "created /contents/predictions/processed/v1-00/colorized/bin/10/HotC_polyimage_7_USDA_NAIP_DOQQ_m_3711509_nw_11_1_20150725.tif\n",
      "created /contents/predictions/processed/v1-00/colorized/bin/10/HotC_polyimage_8_USDA_NAIP_DOQQ_m_3711510_nw_11_1_20150725.tif\n",
      "created /contents/predictions/processed/v1-00/colorized/bin/10/HotC_polyimage_9_USDA_NAIP_DOQQ_m_3711608_ne_11_1_20150725.tif\n",
      "created /contents/predictions/processed/v1-00/colorized/bin/10/HotC_polyimage_10_USDA_NAIP_DOQQ_m_3711608_se_11_1_20150725.tif\n",
      "created /contents/predictions/processed/v1-00/colorized/bin/10/HotC_polyimage_11_USDA_NAIP_DOQQ_m_3711616_ne_11_1_20150725.tif\n",
      "created /contents/predictions/processed/v1-00/colorized/bin/10/HotC_polyimage_12_USDA_NAIP_DOQQ_m_3811549_se_11_1_20150725.tif\n",
      "created /contents/predictions/processed/v1-00/colorized/bin/10/HotC_polyimage_13_USDA_NAIP_DOQQ_m_3811549_sw_11_1_20150725.tif\n",
      "created /contents/predictions/processed/v1-00/colorized/bin/10/HotC_polyimage_14_USDA_NAIP_DOQQ_m_3811550_se_11_1_20150725.tif\n",
      "created /contents/predictions/processed/v1-00/colorized/bin/10/HotC_polyimage_15_USDA_NAIP_DOQQ_m_3811550_sw_11_1_20150725.tif\n",
      "created /contents/predictions/processed/v1-00/colorized/bin/10/HotC_polyimage_16_USDA_NAIP_DOQQ_m_3811557_ne_11_1_20150725.tif\n",
      "created /contents/predictions/processed/v1-00/colorized/bin/10/HotC_polyimage_17_USDA_NAIP_DOQQ_m_3811557_nw_11_1_20150725.tif\n",
      "created /contents/predictions/processed/v1-00/colorized/bin/10/HotC_polyimage_18_USDA_NAIP_DOQQ_m_3811557_se_11_1_20150725.tif\n",
      "created /contents/predictions/processed/v1-00/colorized/bin/10/HotC_polyimage_19_USDA_NAIP_DOQQ_m_3811557_sw_11_1_20150725.tif\n",
      "created /contents/predictions/processed/v1-00/colorized/bin/10/HotC_polyimage_20_USDA_NAIP_DOQQ_m_3811558_ne_11_1_20150725.tif\n",
      "created /contents/predictions/processed/v1-00/colorized/bin/10/HotC_polyimage_21_USDA_NAIP_DOQQ_m_3811558_nw_11_1_20150725.tif\n",
      "created /contents/predictions/processed/v1-00/colorized/bin/10/HotC_polyimage_22_USDA_NAIP_DOQQ_m_3811558_se_11_1_20150725.tif\n",
      "created /contents/predictions/processed/v1-00/colorized/bin/10/HotC_polyimage_23_USDA_NAIP_DOQQ_m_3811558_sw_11_1_20150725.tif\n",
      "created /contents/predictions/processed/v1-00/colorized/bin/10/HotC_polyimage_24_USDA_NAIP_DOQQ_m_3811656_se_11_1_20150725.tif\n",
      "created /contents/predictions/processed/v1-00/colorized/bin/10/HotC_polyimage_25_USDA_NAIP_DOQQ_m_3811664_ne_11_1_20150725.tif\n",
      "created /contents/predictions/processed/v1-00/colorized/bin/10/HotC_polyimage_26_USDA_NAIP_DOQQ_m_3811664_se_11_1_20150725.tif\n",
      "b'0...10...20...30...40...50...60...70...80...90...100 - done.\\n'\n",
      "created /contents/predictions/processed/v1-00/colorized/bin/35/HotC_polyimage_0_USDA_NAIP_DOQQ_m_3711501_ne_11_1_20150725.tif\n",
      "created /contents/predictions/processed/v1-00/colorized/bin/35/HotC_polyimage_1_USDA_NAIP_DOQQ_m_3711501_nw_11_1_20150725.tif\n",
      "created /contents/predictions/processed/v1-00/colorized/bin/35/HotC_polyimage_2_USDA_NAIP_DOQQ_m_3711501_se_11_1_20150725.tif\n",
      "created /contents/predictions/processed/v1-00/colorized/bin/35/HotC_polyimage_3_USDA_NAIP_DOQQ_m_3711501_sw_11_1_20150725.tif\n",
      "created /contents/predictions/processed/v1-00/colorized/bin/35/HotC_polyimage_4_USDA_NAIP_DOQQ_m_3711502_nw_11_1_20150725.tif\n",
      "created /contents/predictions/processed/v1-00/colorized/bin/35/HotC_polyimage_5_USDA_NAIP_DOQQ_m_3711502_sw_11_1_20150725.tif\n",
      "created /contents/predictions/processed/v1-00/colorized/bin/35/HotC_polyimage_6_USDA_NAIP_DOQQ_m_3711509_ne_11_1_20150725.tif\n",
      "created /contents/predictions/processed/v1-00/colorized/bin/35/HotC_polyimage_7_USDA_NAIP_DOQQ_m_3711509_nw_11_1_20150725.tif\n",
      "created /contents/predictions/processed/v1-00/colorized/bin/35/HotC_polyimage_8_USDA_NAIP_DOQQ_m_3711510_nw_11_1_20150725.tif\n",
      "created /contents/predictions/processed/v1-00/colorized/bin/35/HotC_polyimage_9_USDA_NAIP_DOQQ_m_3711608_ne_11_1_20150725.tif\n",
      "created /contents/predictions/processed/v1-00/colorized/bin/35/HotC_polyimage_10_USDA_NAIP_DOQQ_m_3711608_se_11_1_20150725.tif\n",
      "created /contents/predictions/processed/v1-00/colorized/bin/35/HotC_polyimage_11_USDA_NAIP_DOQQ_m_3711616_ne_11_1_20150725.tif\n",
      "created /contents/predictions/processed/v1-00/colorized/bin/35/HotC_polyimage_12_USDA_NAIP_DOQQ_m_3811549_se_11_1_20150725.tif\n",
      "created /contents/predictions/processed/v1-00/colorized/bin/35/HotC_polyimage_13_USDA_NAIP_DOQQ_m_3811549_sw_11_1_20150725.tif\n",
      "created /contents/predictions/processed/v1-00/colorized/bin/35/HotC_polyimage_14_USDA_NAIP_DOQQ_m_3811550_se_11_1_20150725.tif\n",
      "created /contents/predictions/processed/v1-00/colorized/bin/35/HotC_polyimage_15_USDA_NAIP_DOQQ_m_3811550_sw_11_1_20150725.tif\n",
      "created /contents/predictions/processed/v1-00/colorized/bin/35/HotC_polyimage_16_USDA_NAIP_DOQQ_m_3811557_ne_11_1_20150725.tif\n",
      "created /contents/predictions/processed/v1-00/colorized/bin/35/HotC_polyimage_17_USDA_NAIP_DOQQ_m_3811557_nw_11_1_20150725.tif\n",
      "created /contents/predictions/processed/v1-00/colorized/bin/35/HotC_polyimage_18_USDA_NAIP_DOQQ_m_3811557_se_11_1_20150725.tif\n",
      "created /contents/predictions/processed/v1-00/colorized/bin/35/HotC_polyimage_19_USDA_NAIP_DOQQ_m_3811557_sw_11_1_20150725.tif\n",
      "created /contents/predictions/processed/v1-00/colorized/bin/35/HotC_polyimage_20_USDA_NAIP_DOQQ_m_3811558_ne_11_1_20150725.tif\n",
      "created /contents/predictions/processed/v1-00/colorized/bin/35/HotC_polyimage_21_USDA_NAIP_DOQQ_m_3811558_nw_11_1_20150725.tif\n",
      "created /contents/predictions/processed/v1-00/colorized/bin/35/HotC_polyimage_22_USDA_NAIP_DOQQ_m_3811558_se_11_1_20150725.tif\n",
      "created /contents/predictions/processed/v1-00/colorized/bin/35/HotC_polyimage_23_USDA_NAIP_DOQQ_m_3811558_sw_11_1_20150725.tif\n",
      "created /contents/predictions/processed/v1-00/colorized/bin/35/HotC_polyimage_24_USDA_NAIP_DOQQ_m_3811656_se_11_1_20150725.tif\n",
      "created /contents/predictions/processed/v1-00/colorized/bin/35/HotC_polyimage_25_USDA_NAIP_DOQQ_m_3811664_ne_11_1_20150725.tif\n",
      "created /contents/predictions/processed/v1-00/colorized/bin/35/HotC_polyimage_26_USDA_NAIP_DOQQ_m_3811664_se_11_1_20150725.tif\n",
      "b'0...10...20...30...40...50...60...70...80...90...100 - done.\\n'\n"
     ]
    }
   ],
   "source": [
    "#creating a threshold layer\n",
    "thrs = [0.001, 0.01, 0.05, 0.10, 0.35]\n",
    "for thr in thrs:\n",
    "    for i in range(len(ref)):\n",
    "        im = 1-get_image_array(ref[i])\n",
    "        _, offsets = gen_border_mask(ref[i])\n",
    "        mask = np.zeros(im.shape).astype('uint8')\n",
    "        mask[im>=thr] = 255  \n",
    "        mapped = (255*plt.cm.viridis(mask)).astype('uint8')\n",
    "        outdirc = '%s/colorized/bin/%02d'%(modeldirc, thr*100)\n",
    "        if (not os.path.exists(outdirc)):\n",
    "            os.mkdir(outdirc) \n",
    "        outname = '%s/%s'%(outdirc, os.path.basename(ref[i]))\n",
    "        export_tif(mapped[:offsets[0],:offsets[1],:], gdal.Open(ref[i]), outname, alpha_mask=True)\n",
    "    mosaic_file = '%s/binmosaic.vrt'%(outdirc)\n",
    "    mosaic_cmd = \"gdalbuildvrt -srcnodata 0 %s %s/*.tif\"%(mosaic_file, outdirc)\n",
    "    p = subprocess.Popen(mosaic_cmd, stdout=subprocess.PIPE, \\\n",
    "                     stderr=subprocess.STDOUT, shell=True)\n",
    "    stdout, stderr = p.communicate()\n",
    "    print(stdout)"
   ]
  },
  {
   "cell_type": "code",
   "execution_count": 9,
   "metadata": {},
   "outputs": [
    {
     "name": "stderr",
     "output_type": "stream",
     "text": [
      "IOPub data rate exceeded.\n",
      "The notebook server will temporarily stop sending output\n",
      "to the client in order to avoid crashing it.\n",
      "To change this limit, set the config variable\n",
      "`--NotebookApp.iopub_data_rate_limit`.\n",
      "\n",
      "Current values:\n",
      "NotebookApp.iopub_data_rate_limit=1000000.0 (bytes/sec)\n",
      "NotebookApp.rate_limit_window=3.0 (secs)\n",
      "\n"
     ]
    }
   ],
   "source": [
    "thrs = [0.001, 0.01, 0.05, 0.10, 0.35]\n",
    "for thr in thrs:\n",
    "    outdirc = '%s/colorized/bin/%02d'%(modeldirc, thr*100)\n",
    "    mosaic_file = '%s/binmosaic.vrt'%(outdirc)\n",
    "    tile_cmd = \"python ./src/gdal2tiles2.py --processes 7 -z 7-17 -v %s %s/tiles\"%(mosaic_file, \\\n",
    "                                                                           outdirc)\n",
    "    p = subprocess.Popen(tile_cmd, stdout=subprocess.PIPE, \\\n",
    "                 stderr=subprocess.STDOUT, shell=True)\n",
    "    stdout, stderr = p.communicate()\n",
    "    print(stdout)"
   ]
  },
  {
   "cell_type": "code",
   "execution_count": null,
   "metadata": {},
   "outputs": [],
   "source": [
    "outdirc = '%s/colorized/bin'%(modeldirc)\n",
    "mosaic_file = '%s/binmosaic.vrt'%(outdirc)\n",
    "mosaic_cmd = \"gdalbuildvrt -srcnodata 0 %s %s/*.tif\"%(mosaic_file, outdirc)\n",
    "tile_cmd = \"python ./src/gdal2tiles2.py --processes 7 -z 4-17 -v %s %s/tiles\"%(mosaic_file, \\\n",
    "                                                                               outdirc)\n",
    "print(mosaic_cmd)\n",
    "print(tile_cmd)"
   ]
  },
  {
   "cell_type": "code",
   "execution_count": null,
   "metadata": {},
   "outputs": [],
   "source": [
    "start = time.time()\n",
    "p = subprocess.Popen(mosaic_cmd, stdout=subprocess.PIPE, \\\n",
    "                     stderr=subprocess.STDOUT, shell=True)\n",
    "stdout, stderr = p.communicate()\n",
    "print(stdout)\n",
    "p = subprocess.Popen(tile_cmd, stdout=subprocess.PIPE, \\\n",
    "                     stderr=subprocess.STDOUT, shell=True)\n",
    "stdout, stderr = p.communicate()\n",
    "print(stdout)\n",
    "print(time.time() - start)"
   ]
  },
  {
   "cell_type": "code",
   "execution_count": null,
   "metadata": {},
   "outputs": [],
   "source": []
  }
 ],
 "metadata": {
  "kernelspec": {
   "display_name": "Python 3",
   "language": "python",
   "name": "python3"
  },
  "language_info": {
   "codemirror_mode": {
    "name": "ipython",
    "version": 3
   },
   "file_extension": ".py",
   "mimetype": "text/x-python",
   "name": "python",
   "nbconvert_exporter": "python",
   "pygments_lexer": "ipython3",
   "version": "3.5.2"
  }
 },
 "nbformat": 4,
 "nbformat_minor": 2
}
